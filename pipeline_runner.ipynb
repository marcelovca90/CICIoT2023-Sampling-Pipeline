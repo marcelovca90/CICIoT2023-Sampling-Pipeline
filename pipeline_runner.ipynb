{
 "cells": [
  {
   "cell_type": "code",
   "execution_count": null,
   "id": "92efa014-9bd7-4eba-9bb3-2ddb9f3ee3a7",
   "metadata": {
    "editable": true,
    "slideshow": {
     "slide_type": ""
    },
    "tags": []
   },
   "outputs": [],
   "source": [
    "import os\n",
    "\n",
    "os.environ['PYDEVD_DISABLE_FILE_VALIDATION'] = '1'"
   ]
  },
  {
   "cell_type": "code",
   "execution_count": null,
   "id": "362460bc-9fcd-4cc8-83a9-9209c9626e39",
   "metadata": {
    "editable": true,
    "slideshow": {
     "slide_type": ""
    },
    "tags": []
   },
   "outputs": [],
   "source": [
    "run_configs_arr = [\n",
    "    ('lightgbm', 'cpu'),\n",
    "    ('xgboost', 'cpu'),\n",
    "    ('xgboostrf', 'cpu')\n",
    "]\n",
    "min_samples_per_class = 5\n",
    "n_classes_arr = [2, 8, 34]\n",
    "n_frac_arr = [0.01, 0.05, 0.10]\n",
    "n_trials_tpe = 1000\n",
    "plot_param_importances = False\n",
    "timeout_tpe = 3600\n",
    "random_state = 42\n",
    "n_jobs = -1"
   ]
  },
  {
   "cell_type": "code",
   "execution_count": null,
   "id": "aae75575-1c50-4608-9c6f-95ae85263451",
   "metadata": {
    "editable": true,
    "scrolled": true,
    "slideshow": {
     "slide_type": ""
    },
    "tags": []
   },
   "outputs": [],
   "source": [
    "import papermill as pm\n",
    "\n",
    "for model_name, device in run_configs_arr:\n",
    "\n",
    "    for n_frac in n_frac_arr:\n",
    "    \n",
    "        for n_classes in n_classes_arr:\n",
    "    \n",
    "            input_notebook = f'./pipeline.ipynb'\n",
    "            output_notebook = f'./output/{n_classes}_{model_name}_{device}_{n_frac:.2f}.ipynb'\n",
    "    \n",
    "            print(input_notebook, '=>', output_notebook)\n",
    "    \n",
    "            try:\n",
    "                \n",
    "                pm.execute_notebook(\n",
    "                    input_notebook,\n",
    "                    output_notebook,\n",
    "                    parameters=dict(\n",
    "                        model_name=model_name,\n",
    "                        device=device,\n",
    "                        min_samples_per_class=min_samples_per_class,\n",
    "                        n_classes=n_classes,\n",
    "                        n_frac=n_frac,\n",
    "                        n_trials_tpe=n_trials_tpe,\n",
    "                        plot_param_importances=plot_param_importances,\n",
    "                        timeout_tpe=timeout_tpe,\n",
    "                        random_state=random_state,\n",
    "                        n_jobs=n_jobs\n",
    "                    )\n",
    "                )\n",
    "                \n",
    "            except Exception as e:\n",
    "                print(e)"
   ]
  }
 ],
 "metadata": {
  "kernelspec": {
   "display_name": "Python 3 (ipykernel)",
   "language": "python",
   "name": "python3"
  },
  "language_info": {
   "codemirror_mode": {
    "name": "ipython",
    "version": 3
   },
   "file_extension": ".py",
   "mimetype": "text/x-python",
   "name": "python",
   "nbconvert_exporter": "python",
   "pygments_lexer": "ipython3",
   "version": "3.11.9"
  }
 },
 "nbformat": 4,
 "nbformat_minor": 5
}
